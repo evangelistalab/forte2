{
 "cells": [
  {
   "cell_type": "markdown",
   "metadata": {},
   "source": [
    "# Tutorial: Forte2's determinant class\n",
    "\n",
    "---\n",
    "\n",
    "In this tutorial we are going to explore how to create a simple FCI code using forte's Python API."
   ]
  },
  {
   "cell_type": "code",
   "execution_count": 1,
   "metadata": {},
   "outputs": [],
   "source": [
    "from forte2 import Determinant"
   ]
  },
  {
   "cell_type": "markdown",
   "metadata": {},
   "source": [
    "## Creating determinants and interacting with them\n",
    "\n",
    "Determinants are represented by the class `Determinant`. Here we create a determinant with all occupation numbers set to zero via the class function `zero()`.\n",
    "When we print the determinant, we see the occupation of each orbital:"
   ]
  },
  {
   "cell_type": "code",
   "execution_count": 2,
   "metadata": {},
   "outputs": [
    {
     "name": "stdout",
     "output_type": "stream",
     "text": [
      "Determinant: |0000000000000000000000000000000000000000000000000000000000000000>\n"
     ]
    }
   ],
   "source": [
    "d = Determinant.zero()\n",
    "print(f'Determinant: {d}')"
   ]
  },
  {
   "cell_type": "markdown",
   "metadata": {},
   "source": [
    "If we are working with only a few orbitals we can use the `.str()` function to produce a more compact representation:"
   ]
  },
  {
   "cell_type": "code",
   "execution_count": 3,
   "metadata": {},
   "outputs": [
    {
     "name": "stdout",
     "output_type": "stream",
     "text": [
      "Determinant: |0000>\n"
     ]
    }
   ],
   "source": [
    "print(f'Determinant: {d.str(4)}') # print only the occupation of 4 orbitals"
   ]
  },
  {
   "cell_type": "markdown",
   "metadata": {},
   "source": [
    "There are several ways one can create determinants. The utility function `forte.det` converts a string to a determinant:"
   ]
  },
  {
   "cell_type": "code",
   "execution_count": 4,
   "metadata": {},
   "outputs": [
    {
     "data": {
      "text/plain": [
       "|2a0bab0000000000000000000000000000000000000000000000000000000000>"
      ]
     },
     "execution_count": 4,
     "metadata": {},
     "output_type": "execute_result"
    }
   ],
   "source": [
    "d = Determinant(\"2a0bab\")\n",
    "d"
   ]
  },
  {
   "cell_type": "markdown",
   "metadata": {},
   "source": [
    "We can check the occupation of a specific orbital using the `na` and `nb` methods:"
   ]
  },
  {
   "cell_type": "code",
   "execution_count": 5,
   "metadata": {},
   "outputs": [
    {
     "data": {
      "text/plain": [
       "(True, True, True, False)"
      ]
     },
     "execution_count": 5,
     "metadata": {},
     "output_type": "execute_result"
    }
   ],
   "source": [
    "d = Determinant(\"2a0bab\")\n",
    "# Access occupation numbers of first two orbitals\n",
    "d.na(0), d.nb(0), d.na(1), d.nb(1)"
   ]
  },
  {
   "cell_type": "markdown",
   "metadata": {},
   "source": [
    "The occupation of a spin orbital can be set with the `set_na` and `set_nb` member functions, passing the orbital index and the value (`True` = 1, `False` = 0)."
   ]
  },
  {
   "cell_type": "code",
   "execution_count": 6,
   "metadata": {},
   "outputs": [
    {
     "data": {
      "text/plain": [
       "|0ba0000000000000000000000000000000000000000000000000000000000000>"
      ]
     },
     "execution_count": 6,
     "metadata": {},
     "output_type": "execute_result"
    }
   ],
   "source": [
    "d = Determinant.zero()\n",
    "# Set occupation of orbital 2 alpha and orbital 1 beta to 1\n",
    "d.set_na(2, True)\n",
    "d.set_nb(1, True)\n",
    "d"
   ]
  },
  {
   "cell_type": "markdown",
   "metadata": {},
   "source": [
    "Another common operation is counting the number of occupied spinorbitals in a determinant. The functions `count_a`, `count_b`, and `count` return the number of occupied alpha, beta, and alpha + beta orbitals:"
   ]
  },
  {
   "cell_type": "code",
   "execution_count": 7,
   "metadata": {},
   "outputs": [
    {
     "data": {
      "text/plain": [
       "(3, 2, 5)"
      ]
     },
     "execution_count": 7,
     "metadata": {},
     "output_type": "execute_result"
    }
   ],
   "source": [
    "d = Determinant(\"2aba\")\n",
    "d.count_a(), d.count_b(), d.count()"
   ]
  },
  {
   "cell_type": "markdown",
   "metadata": {},
   "source": [
    "We can also create a new determinant in which all spins are flipped:"
   ]
  },
  {
   "cell_type": "code",
   "execution_count": 8,
   "metadata": {},
   "outputs": [
    {
     "name": "stdout",
     "output_type": "stream",
     "text": [
      "Determinant: |aabb20>\n",
      "Determinant: |bbaa20>\n"
     ]
    }
   ],
   "source": [
    "d = Determinant(\"aabb20\")\n",
    "print(f'Determinant: {d.str(6)}')\n",
    "new_d = d.spin_flip()\n",
    "print(f'Determinant: {new_d.str(6)}')"
   ]
  },
  {
   "cell_type": "markdown",
   "metadata": {},
   "source": [
    "## Applying creation and annihilation operators to determinants\n",
    "\n",
    "Determinants can be modified by applying second quantized creation and annihilation operators.\n",
    "To apply the creation operator $\\hat{a}^\\dagger_{1 \\alpha}$, which adds one electron in the spin orbital $\\psi_{1\\alpha}$, we can use the function (`create_alfa`). This function returns the corresponding sign and modifies the original determinant (this is done for performance reasons):"
   ]
  },
  {
   "cell_type": "code",
   "execution_count": 9,
   "metadata": {},
   "outputs": [
    {
     "name": "stdout",
     "output_type": "stream",
     "text": [
      "Original determinant: |0000>\n",
      "New determinant:      |0a00>, sign = 1.0\n"
     ]
    }
   ],
   "source": [
    "d = Determinant.zero()\n",
    "print(f'Original determinant: {d.str(4)}')\n",
    "\n",
    "sign = d.create_a(1)\n",
    "print(f'New determinant:      {d.str(4)}, sign = {sign}')"
   ]
  },
  {
   "cell_type": "markdown",
   "metadata": {},
   "source": [
    "Here we create an electron in spin orbital 2 beta "
   ]
  },
  {
   "cell_type": "code",
   "execution_count": 10,
   "metadata": {},
   "outputs": [
    {
     "name": "stdout",
     "output_type": "stream",
     "text": [
      "Determinant: |0ab0>, sign = -1.0\n"
     ]
    }
   ],
   "source": [
    "sign = d.create_b(2)\n",
    "print(f'Determinant: {d.str(4)}, sign = {sign}')"
   ]
  },
  {
   "cell_type": "markdown",
   "metadata": {},
   "source": [
    "Similarly, we can remove (annihilate) an electron with the command `destroy_alfa` (`destroy_beta` for the beta case). Since this orbital is empty, the sign returned is 0"
   ]
  },
  {
   "cell_type": "code",
   "execution_count": 11,
   "metadata": {},
   "outputs": [
    {
     "name": "stdout",
     "output_type": "stream",
     "text": [
      "Determinant: |0ab0>, sign = 0.0\n"
     ]
    }
   ],
   "source": [
    "sign = d.destroy_a(2)\n",
    "print(f'Determinant: {d.str(4)}, sign = {sign}')"
   ]
  },
  {
   "cell_type": "markdown",
   "metadata": {},
   "source": [
    "If we are only interested in the sign obtained when applying a creation/annihilation operator (irrespective of the occupation), we can use the `slater_sign` function"
   ]
  },
  {
   "cell_type": "code",
   "execution_count": 12,
   "metadata": {},
   "outputs": [
    {
     "data": {
      "text/plain": [
       "(1.0, -1.0, -1.0, 1.0, 1.0)"
      ]
     },
     "execution_count": 12,
     "metadata": {},
     "output_type": "execute_result"
    }
   ],
   "source": [
    "d = Determinant(\"a0a\")\n",
    "# Calculate the Slater sign for applying creation/annihilation operators that act\n",
    "# on the first five orbitals\n",
    "d.slater_sign(0), d.slater_sign(1), d.slater_sign(2), d.slater_sign(3), d.slater_sign(4)"
   ]
  },
  {
   "cell_type": "markdown",
   "metadata": {},
   "source": [
    "## Comparing determinants\n",
    "\n",
    "Determinants support comparison (`==`, `!=`, `>`, `<`, etc.) of operators, introducing a canonical ordering of determinants"
   ]
  },
  {
   "cell_type": "code",
   "execution_count": 13,
   "metadata": {},
   "outputs": [
    {
     "name": "stdout",
     "output_type": "stream",
     "text": [
      "|a0> == |b0>: False\n",
      "|a0> == |a0>: True\n",
      "|a0> != |b0>: True\n",
      "|a0> != |0a>: True\n",
      "|a0> != |a0>: False\n",
      "|a0> < |b0>: True\n",
      "|a0> < |0a>: True\n",
      "|a0> < |a0>: False\n"
     ]
    }
   ],
   "source": [
    "d1 = Determinant(\"a\")\n",
    "d2 = Determinant(\"b\")\n",
    "d3 = Determinant(\"0a\")\n",
    "d4 = Determinant(\"a\")\n",
    "\n",
    "# Check if determinants are equal\n",
    "print(f'{d1.str(2)} == {d2.str(2)}: {d1 == d2}')\n",
    "print(f'{d1.str(2)} == {d4.str(2)}: {d1 == d4}')\n",
    "\n",
    "# Check if determinants are not equal\n",
    "print(f'{d1.str(2)} != {d2.str(2)}: {d1 != d2}')\n",
    "print(f'{d1.str(2)} != {d3.str(2)}: {d1 != d3}')\n",
    "print(f'{d1.str(2)} != {d4.str(2)}: {d1 != d4}')\n",
    "\n",
    "# Check if determinants are less than or greater than\n",
    "print(f'{d1.str(2)} < {d2.str(2)}: {d1 < d2}')\n",
    "print(f'{d1.str(2)} < {d3.str(2)}: {d1 < d3}')\n",
    "print(f'{d1.str(2)} < {d4.str(2)}: {d1 < d4}')"
   ]
  },
  {
   "cell_type": "markdown",
   "metadata": {},
   "source": [
    "Comparison of `Determinant` enables sorting and finding elements in lists:"
   ]
  },
  {
   "cell_type": "code",
   "execution_count": 20,
   "metadata": {},
   "outputs": [
    {
     "name": "stdout",
     "output_type": "stream",
     "text": [
      "[|a000000000000000000000000000000000000000000000000000000000000000>, |2000000000000000000000000000000000000000000000000000000000000000>, |ba00000000000000000000000000000000000000000000000000000000000000>, |ab00000000000000000000000000000000000000000000000000000000000000>]\n",
      "Found 'ab' in the list of determinants\n"
     ]
    }
   ],
   "source": [
    "# create a list of determinants\n",
    "dets = [Determinant(\"a0\"),\n",
    "         Determinant(\"ab\"),\n",
    "         Determinant(\"ba\"),\n",
    "         Determinant(\"20\")]\n",
    "\n",
    "# print a sorted list of determinants\n",
    "print(sorted(dets))\n",
    "\n",
    "# Check if determinant |ab> is in the list\n",
    "if Determinant(\"ab\") in dets:\n",
    "    print(\"Found 'ab' in the list of determinants\")"
   ]
  },
  {
   "cell_type": "markdown",
   "metadata": {},
   "source": [
    "`Determinant` objects are also hashable, so that they can be used as keys in dictionaries:"
   ]
  },
  {
   "cell_type": "code",
   "execution_count": 15,
   "metadata": {},
   "outputs": [
    {
     "name": "stdout",
     "output_type": "stream",
     "text": [
      "Index of |b0>: 1\n"
     ]
    }
   ],
   "source": [
    "# create a dictionary with determinants as keys\n",
    "id = {}\n",
    "id[d1] = 0; id[d2] = 1; id[d3] = 2\n",
    "\n",
    "print(f'Index of {d2.str(2)}: {id[d2]}')"
   ]
  },
  {
   "cell_type": "markdown",
   "metadata": {},
   "source": [
    "## Differences between determinants\n",
    "\n",
    "We can easily compare two determinants to check differences in occupation. The function `excitation_connection` returns a list of four lists, each containing the orbitals removed and added for each spin case in the order: `alpha removed`, `alpha added`, `beta removed`, `beta added`. In this example, the output shows that d1 is connected to d2 by removing orbital 0 of spin alpha:"
   ]
  },
  {
   "cell_type": "code",
   "execution_count": 16,
   "metadata": {},
   "outputs": [
    {
     "data": {
      "text/plain": [
       "[[0], [], [], []]"
      ]
     },
     "execution_count": 16,
     "metadata": {},
     "output_type": "execute_result"
    }
   ],
   "source": [
    "d1 = Determinant(\"20\")\n",
    "d2 = Determinant(\"b0\")\n",
    "\n",
    "d1.excitation_connection(d2)"
   ]
  },
  {
   "cell_type": "markdown",
   "metadata": {},
   "source": [
    "In the next example, the two determinants differ by a double excitation:"
   ]
  },
  {
   "cell_type": "code",
   "execution_count": 17,
   "metadata": {},
   "outputs": [
    {
     "data": {
      "text/plain": [
       "[[0], [1], [0], [2]]"
      ]
     },
     "execution_count": 17,
     "metadata": {},
     "output_type": "execute_result"
    }
   ],
   "source": [
    "d1 = Determinant(\"200\")\n",
    "d2 = Determinant(\"0ab\")\n",
    "\n",
    "d1.excitation_connection(d2)"
   ]
  },
  {
   "cell_type": "markdown",
   "metadata": {},
   "source": [
    "## Creating a determinant basis\n",
    "\n",
    "Forte2 provides the utility function `hilbert_space` to create all possible determinants with a given number of electrons in a given number of orbitals. This function runs in C++ and will return a list of determinants."
   ]
  },
  {
   "cell_type": "code",
   "execution_count": 18,
   "metadata": {},
   "outputs": [
    {
     "ename": "NameError",
     "evalue": "name 'forte2' is not defined",
     "output_type": "error",
     "traceback": [
      "\u001b[31m---------------------------------------------------------------------------\u001b[39m",
      "\u001b[31mNameError\u001b[39m                                 Traceback (most recent call last)",
      "\u001b[36mCell\u001b[39m\u001b[36m \u001b[39m\u001b[32mIn[18]\u001b[39m\u001b[32m, line 7\u001b[39m\n\u001b[32m      4\u001b[39m na = \u001b[32m1\u001b[39m  \u001b[38;5;66;03m# number of alpha electrons\u001b[39;00m\n\u001b[32m      5\u001b[39m nb = \u001b[32m1\u001b[39m  \u001b[38;5;66;03m# number of beta electrons\u001b[39;00m\n\u001b[32m----> \u001b[39m\u001b[32m7\u001b[39m dets = forte2.hilbert_space(nmo=nmo, na=na, nb=nb)\n\u001b[32m      9\u001b[39m \u001b[38;5;28mprint\u001b[39m(\u001b[33mf\u001b[39m\u001b[33m'\u001b[39m\u001b[33mHilbert space determinants:\u001b[39m\u001b[33m'\u001b[39m)\n\u001b[32m     10\u001b[39m \u001b[38;5;28;01mfor\u001b[39;00m d \u001b[38;5;129;01min\u001b[39;00m dets:\n",
      "\u001b[31mNameError\u001b[39m: name 'forte2' is not defined"
     ]
    }
   ],
   "source": [
    "# Create the Hilbert space of determinants for a space with\n",
    "# one alpha electron and one beta electron in two orbitals\n",
    "nmo = 2 # number of orbitals\n",
    "na = 1  # number of alpha electrons\n",
    "nb = 1  # number of beta electrons\n",
    "\n",
    "dets = forte2.hilbert_space(nmo=nmo, na=na, nb=nb)\n",
    "\n",
    "print(f'Hilbert space determinants:')\n",
    "for d in dets:\n",
    "    print(f'{d.str(nmo)}')"
   ]
  },
  {
   "cell_type": "markdown",
   "metadata": {},
   "source": [
    "This function can also be passed symmetry information to generate only those determinants that have the desired symmetry and given number of alpha/beta electrons.\n",
    "\n",
    "Here is an example of how `hilbert_space` can be used to generate the full Fock space of determinants for a given number of orbitals:"
   ]
  },
  {
   "cell_type": "code",
   "execution_count": null,
   "metadata": {},
   "outputs": [
    {
     "name": "stdout",
     "output_type": "stream",
     "text": [
      "Fock space determinants:\n",
      "|00>\n",
      "|0b>\n",
      "|b0>\n",
      "|bb>\n",
      "|0a>\n",
      "|a0>\n",
      "|02>\n",
      "|ba>\n",
      "|ab>\n",
      "|20>\n",
      "|b2>\n",
      "|2b>\n",
      "|aa>\n",
      "|a2>\n",
      "|2a>\n",
      "|22>\n"
     ]
    }
   ],
   "source": [
    "# Create the Fock space of determinants in a two orbital basis\n",
    "# of dimension 4^2 = 16\n",
    "nmo = 2 # number of orbitals\n",
    "\n",
    "dets = []\n",
    "for na in range(nmo + 1):  # number of alpha electrons\n",
    "    for nb in range(nmo + 1):  # number of beta electrons\n",
    "        dets += forte2.hilbert_space(nmo=nmo, na=na, nb=nb)\n",
    "\n",
    "print(f'Fock space determinants:')\n",
    "for d in dets:\n",
    "    print(f'{d.str(nmo)}')"
   ]
  },
  {
   "cell_type": "markdown",
   "metadata": {},
   "source": []
  }
 ],
 "metadata": {
  "kernelspec": {
   "display_name": "forte",
   "language": "python",
   "name": "python3"
  },
  "language_info": {
   "codemirror_mode": {
    "name": "ipython",
    "version": 3
   },
   "file_extension": ".py",
   "mimetype": "text/x-python",
   "name": "python",
   "nbconvert_exporter": "python",
   "pygments_lexer": "ipython3",
   "version": "3.12.11"
  }
 },
 "nbformat": 4,
 "nbformat_minor": 4
}
