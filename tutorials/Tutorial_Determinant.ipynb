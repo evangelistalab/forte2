{
 "cells": [
  {
   "cell_type": "markdown",
   "metadata": {},
   "source": [
    "# Tutorial: Determinants\n",
    "\n",
    "---\n",
    "\n",
    "In this tutorial we are going to explore the `Determinant` class in Forte2. This class is used to store and manipulate sparse states. Using the Determinant class you can also implement pilot implementations of a wide range of many-body methods."
   ]
  },
  {
   "cell_type": "code",
   "execution_count": null,
   "metadata": {},
   "outputs": [],
   "source": [
    "from forte2 import Determinant"
   ]
  },
  {
   "cell_type": "markdown",
   "metadata": {},
   "source": [
    "## Creating determinants and interacting with them\n",
    "\n",
    "Determinants are represented by the class `Determinant`. Here we create a determinant with all occupation numbers set to zero via the class function `zero()`.\n",
    "When we print the determinant, we see the occupation of each orbital:"
   ]
  },
  {
   "cell_type": "code",
   "execution_count": null,
   "metadata": {},
   "outputs": [],
   "source": [
    "d = Determinant.zero()\n",
    "print(f'Determinant: {d}')"
   ]
  },
  {
   "cell_type": "markdown",
   "metadata": {},
   "source": [
    "If we are working with only a few orbitals we can use the `.str()` function to produce a more compact representation:"
   ]
  },
  {
   "cell_type": "code",
   "execution_count": null,
   "metadata": {},
   "outputs": [],
   "source": [
    "print(f'Determinant: {d.str(4)}') # print only the occupation of 4 orbitals"
   ]
  },
  {
   "cell_type": "markdown",
   "metadata": {},
   "source": [
    "There are several ways one can create determinants. The `Determinant` constructor takes a string representation of a determinant where the occupation of orbitals is read from left to right and the occupation of an orbital is indicated with the following characters:\n",
    "- `2`: doubly occupied (⇅)\n",
    "- `a`: alpha singly occupied (α, ↑)\n",
    "- `b`: beta singly occupied (β, ↓)\n",
    "- `0`: empty"
   ]
  },
  {
   "cell_type": "code",
   "execution_count": null,
   "metadata": {},
   "outputs": [],
   "source": [
    "# Create the determinant with occupation |⇅|↑| |↓|↑|↓>\n",
    "d = Determinant(\"2a0bab\")\n",
    "d"
   ]
  },
  {
   "cell_type": "markdown",
   "metadata": {},
   "source": [
    "We can check the occupation of a specific orbital using the `na` (for α spin) and `nb` (for β spin) methods:"
   ]
  },
  {
   "cell_type": "code",
   "execution_count": null,
   "metadata": {},
   "outputs": [],
   "source": [
    "d = Determinant(\"2a0bab\")\n",
    "# Access occupation numbers of first two orbitals\n",
    "d.na(0), d.nb(0), d.na(1), d.nb(1)"
   ]
  },
  {
   "cell_type": "markdown",
   "metadata": {},
   "source": [
    "The occupation of a spin orbital can be set with the `set_na` and `set_nb` member functions, passing the orbital index and the value (`True` = 1, `False` = 0)."
   ]
  },
  {
   "cell_type": "code",
   "execution_count": null,
   "metadata": {},
   "outputs": [],
   "source": [
    "d = Determinant.zero()\n",
    "# Set occupation of orbital 2 alpha and orbital 1 beta to 1\n",
    "d.set_na(2, True)\n",
    "d.set_nb(1, True)\n",
    "d"
   ]
  },
  {
   "cell_type": "markdown",
   "metadata": {},
   "source": [
    "Another common operation is counting the number of occupied spinorbitals in a determinant. The functions `count_a`, `count_b`, and `count` return the number of occupied alpha, beta, and alpha + beta orbitals:"
   ]
  },
  {
   "cell_type": "code",
   "execution_count": null,
   "metadata": {},
   "outputs": [],
   "source": [
    "d = Determinant(\"2aba\")\n",
    "d.count_a(), d.count_b(), d.count()"
   ]
  },
  {
   "cell_type": "markdown",
   "metadata": {},
   "source": [
    "We can also create a new determinant in which all spins are flipped:"
   ]
  },
  {
   "cell_type": "code",
   "execution_count": null,
   "metadata": {},
   "outputs": [],
   "source": [
    "d = Determinant(\"aabb20\")\n",
    "print(f'Determinant: {d.str(6)}')\n",
    "new_d = d.spin_flip()\n",
    "print(f'Determinant: {new_d.str(6)}')"
   ]
  },
  {
   "cell_type": "markdown",
   "metadata": {},
   "source": [
    "## Applying creation and annihilation operators to determinants\n",
    "\n",
    "Determinants can be modified by applying second quantized creation and annihilation operators.\n",
    "To apply the creation operator $\\hat{a}^\\dagger_{1 \\alpha}$, which adds one electron in the spin orbital $\\psi_{1\\alpha}$, we can use the function (`create_a`). **Note that the first orbital has index equal to zero**. This function returns the corresponding sign and modifies the original determinant (this is done for performance reasons):"
   ]
  },
  {
   "cell_type": "code",
   "execution_count": null,
   "metadata": {},
   "outputs": [],
   "source": [
    "d = Determinant.zero()\n",
    "print(f'Original determinant: {d.str(4)}')\n",
    "\n",
    "sign = d.create_a(1)\n",
    "print(f'New determinant:      {d.str(4)}, sign = {sign}')"
   ]
  },
  {
   "cell_type": "markdown",
   "metadata": {},
   "source": [
    "With the function `create_b` we can create an electron in a beta spin orbital:"
   ]
  },
  {
   "cell_type": "code",
   "execution_count": null,
   "metadata": {},
   "outputs": [],
   "source": [
    "sign = d.create_b(2)\n",
    "print(f'Determinant: {d.str(4)}, sign = {sign}')"
   ]
  },
  {
   "cell_type": "markdown",
   "metadata": {},
   "source": [
    "Similarly, we can remove (annihilate) an electron with the command `destroy_a` (`destroy_b` for the beta case). Since this orbital is empty, the sign returned is 0"
   ]
  },
  {
   "cell_type": "code",
   "execution_count": null,
   "metadata": {},
   "outputs": [],
   "source": [
    "sign = d.destroy_a(2)\n",
    "print(f'Determinant: {d.str(4)}, sign = {sign}')"
   ]
  },
  {
   "cell_type": "markdown",
   "metadata": {},
   "source": [
    "If we are only interested in the sign obtained when applying a creation/annihilation operator (irrespective of the occupation), we can use the `slater_sign` function"
   ]
  },
  {
   "cell_type": "code",
   "execution_count": null,
   "metadata": {},
   "outputs": [],
   "source": [
    "d = Determinant(\"a0a\")\n",
    "\n",
    "# Calculate the Slater sign for applying creation/annihilation operators that act\n",
    "# on the first five orbitals\n",
    "d.slater_sign(0), d.slater_sign(1), d.slater_sign(2), d.slater_sign(3), d.slater_sign(4)"
   ]
  },
  {
   "cell_type": "markdown",
   "metadata": {},
   "source": [
    "## Comparing determinants\n",
    "\n",
    "Determinants support comparison (`==`, `!=`, `>`, `<`, etc.) of operators, introducing a canonical ordering of determinants"
   ]
  },
  {
   "cell_type": "code",
   "execution_count": null,
   "metadata": {},
   "outputs": [],
   "source": [
    "d1 = Determinant(\"a\")\n",
    "d2 = Determinant(\"b\")\n",
    "d3 = Determinant(\"0a\")\n",
    "d4 = Determinant(\"a\")\n",
    "\n",
    "# Check if determinants are equal\n",
    "print(f'{d1.str(2)} == {d2.str(2)}: {d1 == d2}')\n",
    "print(f'{d1.str(2)} == {d4.str(2)}: {d1 == d4}')\n",
    "\n",
    "# Check if determinants are not equal\n",
    "print(f'{d1.str(2)} != {d2.str(2)}: {d1 != d2}')\n",
    "print(f'{d1.str(2)} != {d3.str(2)}: {d1 != d3}')\n",
    "print(f'{d1.str(2)} != {d4.str(2)}: {d1 != d4}')\n",
    "\n",
    "# Check if determinants are less than or greater than\n",
    "print(f'{d1.str(2)} < {d2.str(2)}: {d1 < d2}')\n",
    "print(f'{d1.str(2)} < {d3.str(2)}: {d1 < d3}')\n",
    "print(f'{d1.str(2)} < {d4.str(2)}: {d1 < d4}')"
   ]
  },
  {
   "cell_type": "markdown",
   "metadata": {},
   "source": [
    "Comparison of `Determinant` enables sorting and finding elements in lists:"
   ]
  },
  {
   "cell_type": "code",
   "execution_count": null,
   "metadata": {},
   "outputs": [],
   "source": [
    "# create a list of determinants\n",
    "dets = [Determinant(\"a0\"),\n",
    "         Determinant(\"ab\"),\n",
    "         Determinant(\"ba\"),\n",
    "         Determinant(\"20\")]\n",
    "\n",
    "# print a sorted list of determinants\n",
    "print(sorted(dets))\n",
    "\n",
    "# Check if determinant |ab> is in the list\n",
    "if Determinant(\"ab\") in dets:\n",
    "    print(\"Found 'ab' in the list of determinants\")"
   ]
  },
  {
   "cell_type": "markdown",
   "metadata": {},
   "source": [
    "`Determinant` objects are also hashable, so that they can be used as keys in dictionaries:"
   ]
  },
  {
   "cell_type": "code",
   "execution_count": null,
   "metadata": {},
   "outputs": [],
   "source": [
    "# create a dictionary with determinants as keys\n",
    "id = {}\n",
    "id[d1] = 0; id[d2] = 1; id[d3] = 2\n",
    "\n",
    "print(f'Index of {d2.str(2)}: {id[d2]}')"
   ]
  },
  {
   "cell_type": "markdown",
   "metadata": {},
   "source": [
    "## Differences between determinants\n",
    "\n",
    "We can easily compare two determinants to check differences in occupation. The function `excitation_connection` returns a list of four lists, each containing the orbitals removed and added for each spin case in the order:\n",
    "\n",
    "```[[alpha removed],[alpha added],[beta removed],[beta added]]```\n",
    "\n",
    "In this example, the output shows that d1 is connected to d2 by removing orbital 0 of spin alpha:"
   ]
  },
  {
   "cell_type": "code",
   "execution_count": null,
   "metadata": {},
   "outputs": [],
   "source": [
    "d1 = Determinant(\"20\")\n",
    "d2 = Determinant(\"b0\")\n",
    "\n",
    "d1.excitation_connection(d2)"
   ]
  },
  {
   "cell_type": "markdown",
   "metadata": {},
   "source": [
    "In the next example, the two determinants differ by a double excitation:"
   ]
  },
  {
   "cell_type": "code",
   "execution_count": null,
   "metadata": {},
   "outputs": [],
   "source": [
    "d1 = Determinant(\"200\")\n",
    "d2 = Determinant(\"0ab\")\n",
    "\n",
    "d1.excitation_connection(d2)"
   ]
  },
  {
   "cell_type": "markdown",
   "metadata": {},
   "source": [
    "## Creating a determinant basis\n",
    "\n",
    "Forte2 provides the utility function `hilbert_space` to create all possible determinants with a given number of electrons in a given number of orbitals. This function runs in C++ and will return a list of determinants."
   ]
  },
  {
   "cell_type": "code",
   "execution_count": null,
   "metadata": {},
   "outputs": [],
   "source": [
    "# import the hilbert_space function\n",
    "from forte2 import hilbert_space\n",
    "\n",
    "# Create the Hilbert space of determinants for a space with\n",
    "# one alpha electron and one beta electron in two orbitals\n",
    "nmo = 2 # number of orbitals\n",
    "na = 1  # number of alpha electrons\n",
    "nb = 1  # number of beta electrons\n",
    "\n",
    "dets = hilbert_space(nmo=nmo, na=na, nb=nb)\n",
    "\n",
    "print(f'Hilbert space determinants:')\n",
    "for d in dets:\n",
    "    print(f'{d.str(nmo)}')"
   ]
  },
  {
   "cell_type": "markdown",
   "metadata": {},
   "source": [
    "This function can also be passed symmetry information to generate only those determinants that have the desired symmetry and given number of alpha/beta electrons.\n",
    "\n",
    "Here is an example of how `hilbert_space` can be used to generate the full Fock space of determinants for a given number of orbitals:"
   ]
  },
  {
   "cell_type": "code",
   "execution_count": null,
   "metadata": {},
   "outputs": [],
   "source": [
    "# Create the Fock space of determinants in a two orbital basis\n",
    "# of dimension 4^2 = 16\n",
    "nmo = 2 # number of orbitals\n",
    "\n",
    "dets = []\n",
    "for na in range(nmo + 1):  # number of alpha electrons\n",
    "    for nb in range(nmo + 1):  # number of beta electrons\n",
    "        dets += hilbert_space(nmo=nmo, na=na, nb=nb)\n",
    "\n",
    "print(f'Fock space determinants:')\n",
    "for d in dets:\n",
    "    print(f'{d.str(nmo)}')"
   ]
  },
  {
   "cell_type": "markdown",
   "metadata": {},
   "source": []
  }
 ],
 "metadata": {
  "kernelspec": {
   "display_name": "forte",
   "language": "python",
   "name": "python3"
  },
  "language_info": {
   "codemirror_mode": {
    "name": "ipython",
    "version": 3
   },
   "file_extension": ".py",
   "mimetype": "text/x-python",
   "name": "python",
   "nbconvert_exporter": "python",
   "pygments_lexer": "ipython3",
   "version": "3.12.11"
  }
 },
 "nbformat": 4,
 "nbformat_minor": 4
}
